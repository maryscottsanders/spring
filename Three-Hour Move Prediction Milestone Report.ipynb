{
 "cells": [
  {
   "cell_type": "markdown",
   "metadata": {},
   "source": [
    "## The Problem\n",
    "\n",
    "Bellhops is a startup moving company that contracts movers and truck drivers to provide a high-quality, on-demand moving experience.  One of the company's logistical challenges is figuring out how long a move should be scheduled for. The company does not want to ovestimate how long a move will take because that will deter customers from booking, and if they do book, will unessesarily tie up resources. The company does not want to underestimate move length because if a move goes over the estimated time, because that can cause back ups throughout the rest of the day. \n",
    "\n",
    "Bellhops has two main types of move, or \"broad move types\": Full Service (FS) and Labor Only (LO.) On LO moves, bellhops only provides movers, typically 2-3. On FS moves, Bellhops provides a truck and typically 2-4 movers. Generally speaking, for a given move, the move movers you assign to the move, the shorter the time between reservation start at clock out, or \"move length.\" Because drivers are paid a higher hourly rate than movers, stacking several shorter moves with more movers is more economical than scheduling longer moves with more drivers and fewer movers. In general, Bellhops would like to schedule moves so they are completed in under three hours. This would let Bellhops schedule a driver on 2-3 moves a day. However, 70% of FS moves are scheduled with 2 movers and roughly 50% of FS moves last longer than 3 hours. \n",
    "\n",
    "In addition to descreasing driver related costs, Bellhops has found that for a given number of man hours worked, the average NPS score can increase by 20% and average poor experience discounts decrease by 50% when 3 movers are on a FS job instead of 2.\n",
    "\n",
    "If Bellhops could better predict whether or not a move was going to exceed the three-hour mark, Bellhops could simply schedule more movers, thereby improving the customer experience and increasing the company's margin."
   ]
  },
  {
   "cell_type": "markdown",
   "metadata": {},
   "source": [
    "## Data\n",
    "\n",
    "The data come from Bellhops’ internal data warehouse. For each move the company performs, it collects the following features:\n",
    "\n",
    "Order Number - the internal id for the move\n",
    "\n",
    "Market - the city in which the move took place\n",
    "\n",
    "FS - whether or not the move was a \"Full Service\" move, a move for which bellhops provided a driver and a truck. These are almost always multi-location moves. Non-full service moves are \"Labor Only,\" moves where bellhops only provides labor. Labor only moves can be single or multication.\n",
    "\n",
    "Move Type - the type of move\n",
    "\n",
    "Move Length Hours - the time between reservation start and the last clock out\n",
    "\n",
    "Phone - dummy variable that equals one when the move was booked on the phone and zero when booked online\n",
    "\n",
    "Executed Man Hours - the number of man hours it took to complete the move\n",
    "\n",
    "Booked Man Hours - the number of man hours that were booked\n",
    "\n",
    "Order Total Spots - the number of movers that worked on the order\n",
    "\n",
    "House - whether or not the property type was a house\n",
    "\n",
    "Residence - whether or not the property was a residence\n",
    "\n",
    "Rooms - the number of rooms on the property\n",
    "\n",
    "Coupon Amount - the value of the customer's coupon, if present\n",
    "\n",
    "GRPN - whether or not the move was from Groupon\n",
    "\n",
    "Num Effort Hops - the number of hops that had previousely received poor effort ratings from customers\n",
    "\n",
    "Some Inventory - whether or not he customer provided us with any inventory during the booking process\n",
    "\n",
    "\"Beds\" through \"Boxes\" - the number of the named items the customer reported\n",
    "\n",
    "Reservation Start - the datetime at which the reservation was scheduled to start\n",
    "\n",
    "Booked At - the date time at which the order was booked\n",
    "\n",
    "Dense - whether or not the order occurred in a market with more that 10k people per sq. mile\n",
    "\n",
    "Flights of Stairs - the total number of flights of stairs for all properties on the move\n",
    "\n",
    "Large/Medium/Small Items - the number of \"large\"/\"medium\"/\"small\" items reported during the booking process\n",
    "\n",
    "Stops - the number of locations on the move\n",
    "\n",
    "Elevators - the number of elevators reported during the booking porcess\n",
    "\n",
    "Additional Instructions - whether or not the customer reported additional instructions during the booking process\n",
    "\n",
    "NPS - net promoter score\n",
    "\n",
    "Num Bad Star Hops - the number of hops on the job with previous low overall reviews\n",
    "\n",
    "Avg Prev Late Rate - the average of the movers' rates of being late on previous moves\n",
    "\n",
    "Sum Prev Late Rate - the sum of the movers' rates of being late on previous moves\n",
    "\n",
    "Max Late Clock In Hours - the latest any mover was to the move in hours\n",
    "\n",
    "Sum Late Clock In Hours - the total number of man hours that movers were late to the move\n",
    "\n",
    "City Pop - the population of the market\n",
    "\n",
    "Pop Density - the population density of the market"
   ]
  },
  {
   "cell_type": "markdown",
   "metadata": {},
   "source": [
    "## Data Cleaning\n",
    "\n",
    "#### Setting Up\n",
    "First, I imported pandas so I could work with this data as a DataFrame and numpy for feature engineering. I read the csv into a pandas DataFrame, with column ‘order_id’ as the index. \n"
   ]
  },
  {
   "cell_type": "code",
   "execution_count": 725,
   "metadata": {},
   "outputs": [
    {
     "data": {
      "text/html": [
       "<div>\n",
       "<style scoped>\n",
       "    .dataframe tbody tr th:only-of-type {\n",
       "        vertical-align: middle;\n",
       "    }\n",
       "\n",
       "    .dataframe tbody tr th {\n",
       "        vertical-align: top;\n",
       "    }\n",
       "\n",
       "    .dataframe thead th {\n",
       "        text-align: right;\n",
       "    }\n",
       "</style>\n",
       "<table border=\"1\" class=\"dataframe\">\n",
       "  <thead>\n",
       "    <tr style=\"text-align: right;\">\n",
       "      <th></th>\n",
       "      <th>market</th>\n",
       "      <th>move_type</th>\n",
       "      <th>fs</th>\n",
       "      <th>move_length_hours</th>\n",
       "      <th>executed_man_hours</th>\n",
       "      <th>booked_man_hours</th>\n",
       "      <th>order_total_spots</th>\n",
       "      <th>property_size_name</th>\n",
       "      <th>property_type_name</th>\n",
       "      <th>house</th>\n",
       "      <th>...</th>\n",
       "      <th>nps_promoter</th>\n",
       "      <th>nps_detractor</th>\n",
       "      <th>num_bad_star_hops</th>\n",
       "      <th>avg_prev_late_rate</th>\n",
       "      <th>sum_prev_late_rate</th>\n",
       "      <th>max_late_clock_in_hours</th>\n",
       "      <th>sum_late_clock_in_hours</th>\n",
       "      <th>phone</th>\n",
       "      <th>city_pop</th>\n",
       "      <th>pop_density</th>\n",
       "    </tr>\n",
       "    <tr>\n",
       "      <th>order_id</th>\n",
       "      <th></th>\n",
       "      <th></th>\n",
       "      <th></th>\n",
       "      <th></th>\n",
       "      <th></th>\n",
       "      <th></th>\n",
       "      <th></th>\n",
       "      <th></th>\n",
       "      <th></th>\n",
       "      <th></th>\n",
       "      <th></th>\n",
       "      <th></th>\n",
       "      <th></th>\n",
       "      <th></th>\n",
       "      <th></th>\n",
       "      <th></th>\n",
       "      <th></th>\n",
       "      <th></th>\n",
       "      <th></th>\n",
       "      <th></th>\n",
       "      <th></th>\n",
       "    </tr>\n",
       "  </thead>\n",
       "  <tbody>\n",
       "    <tr>\n",
       "      <th>482733</th>\n",
       "      <td>atlantaga</td>\n",
       "      <td>gopher</td>\n",
       "      <td>1</td>\n",
       "      <td>3.666667</td>\n",
       "      <td>7.50</td>\n",
       "      <td>8.0</td>\n",
       "      <td>2</td>\n",
       "      <td>1 Bedroom</td>\n",
       "      <td>Apartment/Condo</td>\n",
       "      <td>0</td>\n",
       "      <td>...</td>\n",
       "      <td>1.0</td>\n",
       "      <td>0.0</td>\n",
       "      <td>2</td>\n",
       "      <td>0.094274</td>\n",
       "      <td>0.282823</td>\n",
       "      <td>0.000000</td>\n",
       "      <td>0.000000</td>\n",
       "      <td>1</td>\n",
       "      <td>472522.0</td>\n",
       "      <td>5180.0</td>\n",
       "    </tr>\n",
       "    <tr>\n",
       "      <th>483964</th>\n",
       "      <td>atlantaga</td>\n",
       "      <td>atob</td>\n",
       "      <td>0</td>\n",
       "      <td>2.369167</td>\n",
       "      <td>5.25</td>\n",
       "      <td>4.0</td>\n",
       "      <td>2</td>\n",
       "      <td>Studio/Loft</td>\n",
       "      <td>Apartment/Condo</td>\n",
       "      <td>0</td>\n",
       "      <td>...</td>\n",
       "      <td>1.0</td>\n",
       "      <td>0.0</td>\n",
       "      <td>3</td>\n",
       "      <td>0.113870</td>\n",
       "      <td>0.341611</td>\n",
       "      <td>0.000000</td>\n",
       "      <td>0.000000</td>\n",
       "      <td>0</td>\n",
       "      <td>472522.0</td>\n",
       "      <td>5180.0</td>\n",
       "    </tr>\n",
       "    <tr>\n",
       "      <th>484309</th>\n",
       "      <td>atlantaga</td>\n",
       "      <td>gopher</td>\n",
       "      <td>1</td>\n",
       "      <td>5.066667</td>\n",
       "      <td>10.50</td>\n",
       "      <td>8.0</td>\n",
       "      <td>2</td>\n",
       "      <td>1 Bedroom</td>\n",
       "      <td>Apartment/Condo</td>\n",
       "      <td>0</td>\n",
       "      <td>...</td>\n",
       "      <td>NaN</td>\n",
       "      <td>NaN</td>\n",
       "      <td>3</td>\n",
       "      <td>0.122590</td>\n",
       "      <td>0.490359</td>\n",
       "      <td>0.000000</td>\n",
       "      <td>0.000000</td>\n",
       "      <td>0</td>\n",
       "      <td>472522.0</td>\n",
       "      <td>5180.0</td>\n",
       "    </tr>\n",
       "    <tr>\n",
       "      <th>484339</th>\n",
       "      <td>atlantaga</td>\n",
       "      <td>unloading</td>\n",
       "      <td>0</td>\n",
       "      <td>0.687500</td>\n",
       "      <td>2.00</td>\n",
       "      <td>4.0</td>\n",
       "      <td>2</td>\n",
       "      <td>1 Bedroom</td>\n",
       "      <td>Apartment/Condo</td>\n",
       "      <td>0</td>\n",
       "      <td>...</td>\n",
       "      <td>1.0</td>\n",
       "      <td>0.0</td>\n",
       "      <td>2</td>\n",
       "      <td>0.171529</td>\n",
       "      <td>0.343058</td>\n",
       "      <td>0.000000</td>\n",
       "      <td>0.000000</td>\n",
       "      <td>0</td>\n",
       "      <td>472522.0</td>\n",
       "      <td>5180.0</td>\n",
       "    </tr>\n",
       "    <tr>\n",
       "      <th>484509</th>\n",
       "      <td>atlantaga</td>\n",
       "      <td>gopher</td>\n",
       "      <td>1</td>\n",
       "      <td>2.565556</td>\n",
       "      <td>5.50</td>\n",
       "      <td>4.0</td>\n",
       "      <td>2</td>\n",
       "      <td>1 Bedroom</td>\n",
       "      <td>Apartment/Condo</td>\n",
       "      <td>0</td>\n",
       "      <td>...</td>\n",
       "      <td>NaN</td>\n",
       "      <td>NaN</td>\n",
       "      <td>5</td>\n",
       "      <td>0.113659</td>\n",
       "      <td>0.795613</td>\n",
       "      <td>0.016667</td>\n",
       "      <td>0.016667</td>\n",
       "      <td>0</td>\n",
       "      <td>472522.0</td>\n",
       "      <td>5180.0</td>\n",
       "    </tr>\n",
       "  </tbody>\n",
       "</table>\n",
       "<p>5 rows × 55 columns</p>\n",
       "</div>"
      ],
      "text/plain": [
       "             market  move_type  fs  move_length_hours  executed_man_hours  \\\n",
       "order_id                                                                    \n",
       "482733    atlantaga     gopher   1           3.666667                7.50   \n",
       "483964    atlantaga       atob   0           2.369167                5.25   \n",
       "484309    atlantaga     gopher   1           5.066667               10.50   \n",
       "484339    atlantaga  unloading   0           0.687500                2.00   \n",
       "484509    atlantaga     gopher   1           2.565556                5.50   \n",
       "\n",
       "          booked_man_hours  order_total_spots property_size_name  \\\n",
       "order_id                                                           \n",
       "482733                 8.0                  2          1 Bedroom   \n",
       "483964                 4.0                  2        Studio/Loft   \n",
       "484309                 8.0                  2          1 Bedroom   \n",
       "484339                 4.0                  2          1 Bedroom   \n",
       "484509                 4.0                  2          1 Bedroom   \n",
       "\n",
       "         property_type_name  house     ...       nps_promoter  nps_detractor  \\\n",
       "order_id                               ...                                     \n",
       "482733      Apartment/Condo      0     ...                1.0            0.0   \n",
       "483964      Apartment/Condo      0     ...                1.0            0.0   \n",
       "484309      Apartment/Condo      0     ...                NaN            NaN   \n",
       "484339      Apartment/Condo      0     ...                1.0            0.0   \n",
       "484509      Apartment/Condo      0     ...                NaN            NaN   \n",
       "\n",
       "          num_bad_star_hops  avg_prev_late_rate  sum_prev_late_rate  \\\n",
       "order_id                                                              \n",
       "482733                    2            0.094274            0.282823   \n",
       "483964                    3            0.113870            0.341611   \n",
       "484309                    3            0.122590            0.490359   \n",
       "484339                    2            0.171529            0.343058   \n",
       "484509                    5            0.113659            0.795613   \n",
       "\n",
       "          max_late_clock_in_hours  sum_late_clock_in_hours  phone  city_pop  \\\n",
       "order_id                                                                      \n",
       "482733                   0.000000                 0.000000      1  472522.0   \n",
       "483964                   0.000000                 0.000000      0  472522.0   \n",
       "484309                   0.000000                 0.000000      0  472522.0   \n",
       "484339                   0.000000                 0.000000      0  472522.0   \n",
       "484509                   0.016667                 0.016667      0  472522.0   \n",
       "\n",
       "          pop_density  \n",
       "order_id               \n",
       "482733         5180.0  \n",
       "483964         5180.0  \n",
       "484309         5180.0  \n",
       "484339         5180.0  \n",
       "484509         5180.0  \n",
       "\n",
       "[5 rows x 55 columns]"
      ]
     },
     "execution_count": 725,
     "metadata": {},
     "output_type": "execute_result"
    }
   ],
   "source": [
    "import pandas as pd\n",
    "import numpy as np\n",
    "\n",
    "#Read csv into a pandas dataframe.\n",
    "csv = 'move_length.csv'\n",
    "df = pd.read_csv(csv, index_col = 'order_id')\n",
    "df.head()"
   ]
  },
  {
   "cell_type": "code",
   "execution_count": 726,
   "metadata": {},
   "outputs": [
    {
     "name": "stdout",
     "output_type": "stream",
     "text": [
      "<class 'pandas.core.frame.DataFrame'>\n",
      "Int64Index: 8286 entries, 482733 to 552059\n",
      "Data columns (total 55 columns):\n",
      "market                       8286 non-null object\n",
      "move_type                    8286 non-null object\n",
      "fs                           8286 non-null int64\n",
      "move_length_hours            8286 non-null float64\n",
      "executed_man_hours           8286 non-null float64\n",
      "booked_man_hours             8286 non-null float64\n",
      "order_total_spots            8286 non-null int64\n",
      "property_size_name           8286 non-null object\n",
      "property_type_name           8286 non-null object\n",
      "house                        8286 non-null int64\n",
      "residence                    8286 non-null int64\n",
      "rooms                        8286 non-null int64\n",
      "coupon_amount                8286 non-null float64\n",
      "min_billable_man_hours       8286 non-null int64\n",
      "damage_cost                  8286 non-null float64\n",
      "damage                       8286 non-null int64\n",
      "appeasement                  8286 non-null int64\n",
      "appeasement_cost             8286 non-null float64\n",
      "grpn                         8286 non-null int64\n",
      "grpn200                      8286 non-null int64\n",
      "num_effort_hops              8286 non-null int64\n",
      "some_inventory               2048 non-null float64\n",
      "beds                         1218 non-null float64\n",
      "desks                        476 non-null float64\n",
      "chairs                       861 non-null float64\n",
      "refrigerators                87 non-null float64\n",
      "ables                        1079 non-null float64\n",
      "dressers                     1057 non-null float64\n",
      "washing_machines             249 non-null float64\n",
      "couches                      1047 non-null float64\n",
      "bookshelves                  464 non-null float64\n",
      "boxes                        1069 non-null float64\n",
      "reservation_start            8286 non-null object\n",
      "booked_at                    8286 non-null object\n",
      "dense                        8286 non-null int64\n",
      "flights_of_stairs            8286 non-null int64\n",
      "large_items                  8286 non-null int64\n",
      "medium_items                 8286 non-null int64\n",
      "small_items                  8286 non-null int64\n",
      "stops                        8286 non-null int64\n",
      "elevators                    8286 non-null int64\n",
      "additional_instructions      8286 non-null int64\n",
      "minutes_between_waypoints    8286 non-null float64\n",
      "miles_between_waypoints      8286 non-null float64\n",
      "nps_score                    2151 non-null float64\n",
      "nps_promoter                 2151 non-null float64\n",
      "nps_detractor                2151 non-null float64\n",
      "num_bad_star_hops            8286 non-null int64\n",
      "avg_prev_late_rate           8286 non-null float64\n",
      "sum_prev_late_rate           8286 non-null float64\n",
      "max_late_clock_in_hours      8286 non-null float64\n",
      "sum_late_clock_in_hours      8286 non-null float64\n",
      "phone                        8286 non-null int64\n",
      "city_pop                     8286 non-null float64\n",
      "pop_density                  8286 non-null float64\n",
      "dtypes: float64(28), int64(21), object(6)\n",
      "memory usage: 3.5+ MB\n"
     ]
    }
   ],
   "source": [
    "df.info()"
   ]
  },
  {
   "cell_type": "markdown",
   "metadata": {},
   "source": [
    "#### Removing Extraneous Rows\n",
    "Furthermore, I dropped about 20 rows out of 8,000 where the ‘move_length_hours’ column was null or less than 0. (There is clearly an issue with the data if it says the start time was after the end time.) As the independent variable is based on this column, it made no sense to replace values.\n",
    "\n",
    "I removed less than 10 rows that were for moves of a depricated move type called \"loadingorunloading\" that was a stand-in used when it was unkown whether the move was actually of type \"loading\" or \"unloading.\" \n"
   ]
  },
  {
   "cell_type": "code",
   "execution_count": 727,
   "metadata": {},
   "outputs": [],
   "source": [
    "#Drop rows where move_length_hours is null.(This is the column from which the independant variable is calculated.)\n",
    "df = df[df['move_length_hours'].notnull()]\n",
    "df = df[df['move_length_hours'] > 0]"
   ]
  },
  {
   "cell_type": "code",
   "execution_count": 728,
   "metadata": {},
   "outputs": [],
   "source": [
    "#Drop rows where move_type is 'loadingorunloading.' This is a depricated move type that shows up vary rarely in this dataset and would not help with predictions.\n",
    "df = df[df['move_type'] != 'loadingorunloading']"
   ]
  },
  {
   "cell_type": "code",
   "execution_count": 729,
   "metadata": {},
   "outputs": [],
   "source": [
    "#Drop rows where move_type is 'packing.' This is an experimental move type Bellhops only offers intermitantly. \n",
    "df = df[df['move_type'] != 'packing']"
   ]
  },
  {
   "cell_type": "markdown",
   "metadata": {},
   "source": [
    "#### Filling Nulls\n",
    "For single-location moves that were booked after we started collecting the drive distance/time between move locations, I replaced null values for drive distance/time with 0 minutes/miles. I aslo added a columns for drive hours between moves."
   ]
  },
  {
   "cell_type": "code",
   "execution_count": 730,
   "metadata": {},
   "outputs": [],
   "source": [
    "#Fill in rows for single stop moves after drive distance/time existed with 0 minutes/miles\n",
    "first_drive_record = np.min(df['reservation_start'][df['minutes_between_waypoints'].notnull()])\n",
    "\n",
    "df['minutes_between_waypoints'] = np.where((df.reservation_start >= first_drive_record) & (df.stops == 1),0,df.minutes_between_waypoints)\n",
    "\n",
    "df['hours_between_waypoints'] = df['minutes_between_waypoints']/60\n",
    "\n",
    "df = df[df['hours_between_waypoints'] < 20]\n",
    "\n",
    "df['miles_between_waypoints'] = np.where((df.reservation_start >= first_drive_record) & (df.stops == 1),0,df.miles_between_waypoints)"
   ]
  },
  {
   "cell_type": "markdown",
   "metadata": {},
   "source": [
    "#### Initial Feature Engineering\n",
    "With this project, I am trying to predict whether or not a move will run over 3 hours. I generated a column to represent the independent variable called ‘over’ that gives a '1' if the move length was over 3 hours and a '0' if not.\n",
    "\n",
    "I transformed the ‘booked_at’ and ‘reservation_start’ columns into datetimes. From the ‘reservation_start’ column, I added columns that represent the hour of day the move began, whether or not that was in the morning, the day of week the move began, and whether or not that was a weekend day.\n",
    "\n",
    "I added dummy variables for markets and move types.\n",
    "\n",
    "Finally, I wrote the data to a csv, ready for exploratory data analysis."
   ]
  },
  {
   "cell_type": "code",
   "execution_count": 731,
   "metadata": {},
   "outputs": [],
   "source": [
    "#Add a column for whether or not move exceeded 3 hours in length\n",
    "df['over'] = np.where(df.move_length_hours > 3,1,0)"
   ]
  },
  {
   "cell_type": "code",
   "execution_count": 732,
   "metadata": {},
   "outputs": [],
   "source": [
    "#Transform reservation_start and booked_at to datetimes\n",
    "df['reservation_start'] = pd.to_datetime(df['reservation_start'])\n",
    "df['booked_at'] = pd.to_datetime(df['booked_at'])\n",
    "\n",
    "#Add a column for time of day\n",
    "df['hour_of_day'] = df['reservation_start'].dt.hour\n",
    "\n",
    "#Add a column for morning\n",
    "df['morning'] = np.where(df['hour_of_day']<=12,1,0)\n",
    "\n",
    "#Add a column for day of week (The day of the week with Monday=0, Sunday=6)\n",
    "df['day_of_week'] = df['reservation_start'].dt.dayofweek\n",
    "\n",
    "#Add a column for weekend\n",
    "df['weekend'] = np.where(df['day_of_week']>=4 ,1,0)\n",
    "\n",
    "#Transform day of week to category\n",
    "df['day_of_week'] = df['reservation_start'].dt.dayofweek.astype('category')\n",
    "\n",
    "#Add column for days between booking and reservation start\n",
    "df['lead_days'] = (df['reservation_start'] - df['booked_at']).dt.days\n"
   ]
  },
  {
   "cell_type": "code",
   "execution_count": 733,
   "metadata": {},
   "outputs": [],
   "source": [
    "#Adding dummy variables for markets and move_types (and removing the default value column)\n",
    "df['mkt'] = df['market']\n",
    "df['mt'] = df['move_type']\n",
    "df = pd.get_dummies(df, columns=['mkt', 'mt'])\n",
    "df = df.drop(['mkt_atlantaga','mt_unloading'], axis='columns')\n"
   ]
  },
  {
   "cell_type": "code",
   "execution_count": 734,
   "metadata": {},
   "outputs": [],
   "source": [
    "df.to_csv('move_est.csv')"
   ]
  },
  {
   "cell_type": "markdown",
   "metadata": {},
   "source": [
    "## Exploratory Data Analysis"
   ]
  },
  {
   "cell_type": "code",
   "execution_count": 735,
   "metadata": {},
   "outputs": [],
   "source": [
    "#Load libraries\n",
    "import matplotlib.pyplot as plt\n",
    "import seaborn as sns\n",
    "import statsmodels.api as sm"
   ]
  },
  {
   "cell_type": "code",
   "execution_count": 736,
   "metadata": {},
   "outputs": [],
   "source": [
    "#Read csv with cleaned data into a pandas dataframe.\n",
    "csv = 'move_est.csv'\n",
    "df = pd.read_csv(csv, index_col = 'order_id')"
   ]
  },
  {
   "cell_type": "markdown",
   "metadata": {},
   "source": [
    "#### Broad Move Types\n",
    "Bellhops knows that broad move types (FS vs. LO) impact move length. For starters, all FS moves are multi-location (we are moving a customer out one location and into another) while most LO move are single-location (we are moving a customer either into or out of a location.) This should be the first, most obviouse factor we should evaluate in regards to move length. "
   ]
  },
  {
   "cell_type": "code",
   "execution_count": 737,
   "metadata": {},
   "outputs": [
    {
     "data": {
      "image/png": "[encoded data removed]",
      "text/plain": [
       "<matplotlib.figure.Figure at 0x1c9f72e978>"
      ]
     },
     "metadata": {},
     "output_type": "display_data"
    },
    {
     "name": "stdout",
     "output_type": "stream",
     "text": [
      "33 % of all moves run over 3 hours.\n",
      "52 % of full service moves are over 3 hours long while only 11 % of labor only moves are.\n"
     ]
    }
   ],
   "source": [
    "#What do move length distributions look like by broad move type?\n",
    "plt.figure(figsize=(6,9))\n",
    "ax1 = plt.subplot(3,1,1)\n",
    "plt.hist(df.move_length_hours)\n",
    "plt.axvline(df.move_length_hours.mean(), color='k', linestyle='dashed', linewidth=1)\n",
    "plt.title('Histograms of Move Frequency by Move Length Hours and Broad Move Type')\n",
    "plt.ylabel('All')\n",
    "\n",
    "plt.subplot(3,1,2,sharex=ax1,sharey=ax1)\n",
    "plt.hist(df.move_length_hours[df.fs==0])\n",
    "plt.axvline(df.move_length_hours[df.fs==0].mean(), color='k', linestyle='dashed', linewidth=1)\n",
    "plt.ylabel('Labor Only')\n",
    "\n",
    "plt.subplot(3,1,3,sharex=ax1,sharey=ax1)\n",
    "plt.hist(df.move_length_hours[df.fs==1])\n",
    "plt.axvline(df.move_length_hours[df.fs==1].mean(), color='k', linestyle='dashed', linewidth=1)\n",
    "plt.ylabel('Full Service')\n",
    "plt.xlabel('Move Length Hours')\n",
    "\n",
    "plt.show()\n",
    "\n",
    "#Percent of moves over 3hr threshold\n",
    "perc_over = round(np.mean(df.over)*100)\n",
    "print(perc_over,\"% of all moves run over 3 hours.\")\n",
    "\n",
    "#Percent of moves that run over 3hr threshold by broad move type\n",
    "print(round((df['over'][df['fs']==1].mean())*100),\"% of full service moves are over 3 hours long while only\",round((df['over'][df['fs']==0].mean())*100),\"% of labor only moves are.\")"
   ]
  },
  {
   "cell_type": "code",
   "execution_count": 738,
   "metadata": {},
   "outputs": [],
   "source": [
    "#In the future, we will want to label chart legends with \"FS\" and \"LO\", rather than the boolean values of 'fs.'\n",
    "#Generating 'broad_move_type' column so that is easier.\n",
    "df['broad_move_type'] = df['fs'].replace({0: 'LO', 1: 'FS'})"
   ]
  },
  {
   "cell_type": "markdown",
   "metadata": {},
   "source": [
    "#### Number of Stops\n",
    "It would make sense the the number of stops on a move would be driving the difference in move lengths between these two move types."
   ]
  },
  {
   "cell_type": "code",
   "execution_count": 739,
   "metadata": {},
   "outputs": [
    {
     "data": {
      "image/png": "[encoded data removed]",
      "text/plain": [
       "<matplotlib.figure.Figure at 0x1ca2297c88>"
      ]
     },
     "metadata": {},
     "output_type": "display_data"
    }
   ],
   "source": [
    "#Generating scatter plot of Mean Move Lengths by Number of Stops and Broad Move Type\n",
    "stops = df['move_length_hours'].groupby([df['stops'],df['broad_move_type']]).mean().unstack().reset_index()\n",
    "plt.scatter(stops['stops'],stops['FS'])\n",
    "plt.scatter(stops['stops'],stops['LO'])\n",
    "plt.title('Mean Move Length by Number of Stops and Broad Move Type')\n",
    "plt.xlabel('Number of Stops')\n",
    "plt.ylabel('Mean Move Length (Hours)')\n",
    "plt.xlim(.5,8.5)\n",
    "plt.ylim(0,max(max(stops['LO']),max(stops['FS'])))\n",
    "plt.xticks(np.arange(1, 9, step=1))\n",
    "plt.axhline(y=3, xmin=0, xmax=1, hold=None, color=\"red\")\n",
    "plt.legend()\n",
    "plt.show()"
   ]
  },
  {
   "cell_type": "markdown",
   "metadata": {},
   "source": [
    "It appears that mean move length is largely driven by number of stops, but for a given number of stops, the mean lengths of FS moves still tend to be longer than LO moves'. "
   ]
  },
  {
   "cell_type": "markdown",
   "metadata": {},
   "source": [
    "#### Move Types\n",
    "In addition to \"broad move types,\" Bellhops has a more granualar category of moves simply called \"move types.\" There are 5 we included in this analysis:\n",
    "* gopher - This is the move type that represents FS moves, multi-location moves where Bellhops provides a truck. All other move types represent LO moves.\n",
    "* atob - These are multilocation moves where Bellhops does not provide a truck. The customers rent and driver trucks themselves.\n",
    "* loading - Bellhops moves a customer out of a location (by loading a truck/pod/etc.)\n",
    "* unloading - Bellhops moves a customer into a new location (by unloading a truck/pod/etc.)\n",
    "* inhouselabor - Bellhops is not necessarily moving a customer from one location to the next, but rather moving items within a home. "
   ]
  },
  {
   "cell_type": "code",
   "execution_count": 740,
   "metadata": {},
   "outputs": [
    {
     "data": {
      "image/png": "[encoded data removed]",
      "text/plain": [
       "<matplotlib.figure.Figure at 0x1c97b6fb00>"
      ]
     },
     "metadata": {},
     "output_type": "display_data"
    }
   ],
   "source": [
    "#Generating a boxplot of move lengths by move type.\n",
    "plt.figure(figsize=(6,7))\n",
    "ax = sns.boxplot(x=\"move_type\", y=\"move_length_hours\", order=[\"gopher\", \"atob\",\"loading\",\"unloading\",\"inhouselabor\"], data=df)\n",
    "ax.set_title('Boxplot of Move Lengths by Move Type')\n",
    "ax.set_ylabel('Move Length (Hours)')\n",
    "ax.set_xlabel('Move Type')\n",
    "plt.yticks(np.arange(0, max(df.move_length_hours), step=1))\n",
    "plt.axhline(y=3, xmin=0, xmax=1, hold=None, color=\"red\")\n",
    "plt.show()"
   ]
  },
  {
   "cell_type": "markdown",
   "metadata": {},
   "source": [
    "There do seem to be large differences in move lengths between variouse move types. Part of this is explained by the number of stops. (FS/'gopher' and 'atob' have at least two stops, the rest usualy only have one stop.) FS/gopher is the largest offender for running over 3 hours. A to b is the only other move type with the 3 hour mark within it's inner-quartile range. In house labor is the shortest move type, with more than 75% of it's moves below the 3 hours mark."
   ]
  },
  {
   "cell_type": "markdown",
   "metadata": {},
   "source": [
    "#### Markets\n"
   ]
  },
  {
   "cell_type": "markdown",
   "metadata": {},
   "source": [
    "It's no surprise that markets have different mean move lengths as well as different mean move lengths for each broad move type. However, a relationship between mean move length for fs and lo moves would suggest that there is something systematic about a particular market makes moves longer or shorter. "
   ]
  },
  {
   "cell_type": "code",
   "execution_count": 741,
   "metadata": {},
   "outputs": [
    {
     "data": {
      "image/png": "[encoded data removed]",
      "text/plain": [
       "<matplotlib.figure.Figure at 0x1c97dd0c50>"
      ]
     },
     "metadata": {},
     "output_type": "display_data"
    }
   ],
   "source": [
    "#Bellhops has a hunch that there are persistent move length differences among markets. Here are mean move lengths by market and move type.\n",
    "ml = pd.crosstab(df.market, df.fs, values=df.move_length_hours, aggfunc=np.mean)\n",
    "\n",
    "ml = ml.sort_values(1,ascending=False)\n",
    "\n",
    "#Removing any obviouse an outliers.\n",
    "mla = ml[ml[0] < 4]\n",
    "\n",
    "#Reseting the index for easier plotting\n",
    "mla.reset_index(inplace=True)\n",
    "\n",
    "#Scatter plot\n",
    "plt.figure(figsize=(8,8))\n",
    "plt.scatter(mla[1],mla[0])\n",
    "plt.title('Market Mean Move Length for LO vs FS')\n",
    "plt.xlabel('Market Mean FS Move Length')\n",
    "plt.ylabel('Market Mean LO Move Length')\n",
    "\n",
    "for i, market in enumerate(mla.market):\n",
    "    plt.annotate(mla.market[i], (mla[1][i],mla[0][i]), fontsize=8)\n",
    "plt.show()"
   ]
  },
  {
   "cell_type": "markdown",
   "metadata": {},
   "source": [
    "It does seem like mean move length for FS and LO for a market are positively correlated. There could be many stories that support this hypothesis. Maybe customers tend to have more belongings in some markets, maybe in some markets Bellhops' movers tend to work more efficiently, maybe in some markets there are demographic or geographic difference that make moves take longer. We will attempt to uncover the latter by looking at the relationship bettwen population density and move length below."
   ]
  },
  {
   "cell_type": "code",
   "execution_count": 742,
   "metadata": {},
   "outputs": [
    {
     "data": {
      "image/png": "[encoded data removed]",
      "text/plain": [
       "<matplotlib.figure.Figure at 0x1c13fd88d0>"
      ]
     },
     "metadata": {},
     "output_type": "display_data"
    }
   ],
   "source": [
    "#Are these market specific differences driven by population density?\n",
    "pop = pd.DataFrame(df['pop_density'].groupby(df['market']).mean())\n",
    "ml_pop = ml.join(pop)\n",
    "\n",
    "plt.figure(figsize=(8,10))\n",
    "ax1 = plt.subplot(2,1,1)\n",
    "plt.scatter(ml_pop.pop_density,[ml_pop[0]])\n",
    "plt.title('Market Mean Move Length by Population Density for Labor Only Moves')\n",
    "plt.xlabel('Population Denstity in people/sq.mile')\n",
    "plt.ylabel('Mean Move Length (Hours)')\n",
    "\n",
    "plt.subplot(2,1,2,sharex=ax1)\n",
    "plt.scatter(ml_pop.pop_density,[ml_pop[1]])\n",
    "plt.title('Market Mean Move Length by Population Density for Full Service Moves')\n",
    "plt.xlabel('Population Denstity in people/sq.mile')\n",
    "plt.ylabel('Mean Move Length (Hours)')\n",
    "plt.show()\n"
   ]
  },
  {
   "cell_type": "markdown",
   "metadata": {},
   "source": [
    "There is a small sample size, less than 20 markets, but both population density seems to be positively correlated move length for both FS and LO moves."
   ]
  },
  {
   "cell_type": "markdown",
   "metadata": {},
   "source": [
    "#### Drive Time Between Waypoints\n",
    "Intuitively, you would think that every additional minute spent driving between waypoints would increase move length by roughly a minute."
   ]
  },
  {
   "cell_type": "code",
   "execution_count": 743,
   "metadata": {
    "scrolled": true
   },
   "outputs": [
    {
     "data": {
      "image/png": "[encoded data removed]",
      "text/plain": [
       "<matplotlib.figure.Figure at 0x1ca42bbc18>"
      ]
     },
     "metadata": {},
     "output_type": "display_data"
    }
   ],
   "source": [
    "#Generating scatter plot for Move Length and Hours Between Waypoints\n",
    "plt.scatter(df['hours_between_waypoints'][(df['fs']==1) & (df['stops']>1)],df['move_length_hours'][(df['fs']==1) & (df['stops']>1)])\n",
    "plt.scatter(df['hours_between_waypoints'][(df['fs']==0) & (df['stops']>1)],df['move_length_hours'][(df['fs']==0) & (df['stops']>1)])\n",
    "plt.title('Move Length Hours by Hours Between Waypoints and Move Type for Moves with More than One Stop')\n",
    "plt.ylabel('Move Length (Hours)')\n",
    "plt.xlabel('Hours Between Waypoints')\n",
    "plt.show()"
   ]
  },
  {
   "cell_type": "markdown",
   "metadata": {},
   "source": [
    "While it does look like there is a positive correlation, the relationship isn't extremely clear here. Noise caused by other factor swamps the impact visually."
   ]
  },
  {
   "cell_type": "markdown",
   "metadata": {},
   "source": [
    "#### Flights of Stairs\n",
    "It would make sense to think that all else constant, an additional flight of stairs on a move would increase move length."
   ]
  },
  {
   "cell_type": "code",
   "execution_count": 744,
   "metadata": {
    "scrolled": true
   },
   "outputs": [
    {
     "data": {
      "image/png": "[encoded data removed]",
      "text/plain": [
       "<matplotlib.figure.Figure at 0x1ca0613048>"
      ]
     },
     "metadata": {},
     "output_type": "display_data"
    }
   ],
   "source": [
    "#Scatter plot for flights of stairs\n",
    "plt.scatter(df['flights_of_stairs'][(df['fs']==1) & (df['stops']>1)],df['move_length_hours'][(df['fs']==1) & (df['stops']>1)])\n",
    "plt.scatter(df['flights_of_stairs'][(df['fs']==0) & (df['stops']>1)],df['move_length_hours'][(df['fs']==0) & (df['stops']>1)])\n",
    "plt.title('Move Length by Flights of Stairs')\n",
    "plt.xlabel('Flights of Stairs')\n",
    "plt.ylabel('Move Length (Hours)')\n",
    "plt.show()"
   ]
  },
  {
   "cell_type": "markdown",
   "metadata": {},
   "source": [
    "Similarly to the Drive Time Between Waypoints Scatter, move length does seem to be positively correlated with flights of stairs."
   ]
  },
  {
   "cell_type": "markdown",
   "metadata": {},
   "source": [
    "### Additional Feature Engineering"
   ]
  },
  {
   "cell_type": "code",
   "execution_count": 745,
   "metadata": {},
   "outputs": [],
   "source": [
    "#Add a column for correct booked man hours\n",
    "df['even_base'] = np.where(np.floor(df['executed_man_hours'])%2==0,1,0)\n",
    "df['small_mins'] = np.where(df['executed_man_hours'] - np.floor(df['executed_man_hours'])<= .5, 1, 0)\n",
    "df['correct_booked_man_hours'] = np.where((df['even_base']==1) & (df['small_mins'] == 1), np.floor(df['executed_man_hours']/2)*2,np.ceil(df['executed_man_hours']/2)*2 )\n",
    "\n",
    "#Adding columns that are combinations of columns\n",
    "df['second_stop'] = np.where(df['stops'] >=2,1,0)\n",
    "df['extra_stop'] = np.where(((df['fs']==1)|(df['move_type']=='atob')), df.stops-2, df.stops-1)\n",
    "df['extra_hop'] = np.where(df['order_total_spots'] >2,df['order_total_spots'] - 2,0)\n",
    "df['web_extra_hop'] = np.where((df['order_total_spots'] >2) & (df['phone'] == 1),df['order_total_spots'] - 2,0)\n",
    "df['extra_rooms'] = np.where(df['rooms'] > 1,df['rooms']-1,0)\n",
    "df['vd'] = np.where(df['pop_density']>5000,1,0)\n",
    "df['pop_density'] = df['pop_density']/4000\n",
    "df['coupon'] = np.where(df['coupon_amount'] > 0,1,0)\n",
    "df['rooms_stops'] = df.rooms*df.stops\n",
    "\n",
    "#Adding interaction columns\n",
    "df['fs_dense'] = df['fs']*df['dense']\n",
    "df['fs_rooms'] = df['fs']*df['rooms']\n",
    "df['dense_apt'] = np.where((df['property_type_name']=='Apartment/Condo') & (df['dense']==1),1,0)\n",
    "\n",
    "df['second_stop_extra_rooms'] = df['second_stop']*df['extra_rooms']\n",
    "df['second_stop_dense'] = df['second_stop']*df['dense']\n",
    "df['second_stop_extra_rooms_dense'] = df['second_stop']*df['extra_rooms']*df['dense']\n",
    "\n",
    "df['vd_rooms'] = df['vd']*df['rooms']\n",
    "df['house_rooms'] = df['house']*df['rooms']\n",
    "df['rooms_stairs'] = df['rooms']*df['flights_of_stairs']\n",
    "df['rooms_stairs_stops'] = df['rooms']*df['flights_of_stairs']* df['stops']\n",
    "df['rooms_squared'] = df['rooms']*df['rooms']\n",
    "\n"
   ]
  },
  {
   "cell_type": "code",
   "execution_count": 746,
   "metadata": {},
   "outputs": [],
   "source": [
    "#List of market dummies, leaving Atlanta out\n",
    "market_dummies = ['mkt_austintx', 'mkt_birminghamal',\n",
    "       'mkt_charlottenc', 'mkt_chattanoogatn', 'mkt_chicagoil',\n",
    "       'mkt_dallasfortworthtx', 'mkt_denverco', 'mkt_houstontx',\n",
    "       'mkt_indianapolisin', 'mkt_kansascitymo', 'mkt_knoxvilletn',\n",
    "       'mkt_nashvilletn', 'mkt_phoenixaz', 'mkt_pittsburghpa',\n",
    "       'mkt_raleighdurhamchapelhillnc', 'mkt_saintlouismo',\n",
    "       'mkt_washingtondcdc']\n",
    "\n",
    "#List of move type dummies, leaving unloading out\n",
    "move_type_dummies = ['mt_atob', 'mt_gopher', 'mt_inhouselabor','mt_loading']"
   ]
  },
  {
   "cell_type": "markdown",
   "metadata": {},
   "source": [
    "## Inferential Statistics\n",
    "\n",
    "In this section, I evaluate the correlation between all features in the data set and the target variable and generate a pair plot of the ones that are most strongly correlated to the target variable. Then I generate a correlation matrix between the features to inspect which are most correlated with each other to highlight which ones I should potentially avoid including in a model together. Finally, I plug a couple combinations of features into models as a first pass at assessing explanatory power."
   ]
  },
  {
   "cell_type": "code",
   "execution_count": null,
   "metadata": {},
   "outputs": [
    {
     "name": "stdout",
     "output_type": "stream",
     "text": [
      "over                             1.000000\n",
      "move_length_hours                0.780753\n",
      "executed_man_hours               0.634859\n",
      "correct_booked_man_hours         0.632419\n",
      "booked_man_hours                 0.481293\n",
      "fs_rooms                         0.456562\n",
      "second_stop                      0.433679\n",
      "mt_gopher                        0.433084\n",
      "min_billable_man_hours           0.433084\n",
      "fs                               0.433084\n",
      "stops                            0.405100\n",
      "rooms_stops                      0.397064\n",
      "minutes_between_waypoints        0.386389\n",
      "hours_between_waypoints          0.386389\n",
      "second_stop_extra_rooms          0.351060\n",
      "miles_between_waypoints          0.326896\n",
      "nps_score                        0.317653\n",
      "nps_detractor                    0.296374\n",
      "nps_promoter                     0.296233\n",
      "rooms_stairs_stops               0.272975\n",
      "extra_hop                        0.262708\n",
      "order_total_spots                0.261028\n",
      "max_late_clock_in_hours          0.240760\n",
      "rooms_stairs                     0.224399\n",
      "mt_inhouselabor                  0.222314\n",
      "rooms                            0.219201\n",
      "beds                             0.218719\n",
      "appeasement                      0.216671\n",
      "sum_prev_late_rate               0.214813\n",
      "sum_late_clock_in_hours          0.214343\n",
      "dressers                         0.199674\n",
      "appeasement_cost                 0.193050\n",
      "hour_of_day                      0.192488\n",
      "web_extra_hop                    0.192127\n",
      "extra_rooms                      0.191893\n",
      "damage                           0.188288\n",
      "num_bad_star_hops                0.186004\n",
      "vd_rooms                         0.184261\n",
      "additional_instructions          0.183431\n",
      "mt_loading                       0.179435\n",
      "lead_days                        0.174777\n",
      "rooms_squared                    0.173689\n",
      "grpn                             0.161879\n",
      "bookshelves                      0.160143\n",
      "boxes                            0.158144\n",
      "coupon_amount                    0.154080\n",
      "even_base                        0.151393\n",
      "house_rooms                      0.141617\n",
      "grpn200                          0.141242\n",
      "coupon                           0.139051\n",
      "vd                               0.137931\n",
      "flights_of_stairs                0.136550\n",
      "extra_stop                       0.135895\n",
      "elevators                        0.132346\n",
      "fs_dense                         0.127001\n",
      "ables                            0.125456\n",
      "second_stop_dense                0.124290\n",
      "pop_density                      0.115108\n",
      "morning                          0.110402\n",
      "damage_cost                      0.102298\n",
      "small_mins                       0.100850\n",
      "num_effort_hops                  0.100813\n",
      "couches                          0.097961\n",
      "second_stop_extra_rooms_dense    0.082549\n",
      "chairs                           0.068692\n",
      "dense                            0.066329\n",
      "mkt_washingtondcdc               0.066313\n",
      "washing_machines                 0.065207\n",
      "dense_apt                        0.061206\n",
      "mkt_raleighdurhamchapelhillnc    0.056510\n",
      "mkt_saintlouismo                 0.047835\n",
      "mkt_pittsburghpa                 0.047433\n",
      "phone                            0.045847\n",
      "mkt_austintx                     0.041367\n",
      "mkt_chattanoogatn                0.040177\n",
      "refrigerators                    0.035217\n",
      "mkt_nashvilletn                  0.034906\n",
      "mkt_knoxvilletn                  0.027554\n",
      "avg_prev_late_rate               0.025844\n",
      "residence                        0.024446\n",
      "mkt_chicagoil                    0.020610\n",
      "mkt_charlottenc                  0.019251\n",
      "weekend                          0.019136\n",
      "desks                            0.018223\n",
      "mt_atob                          0.016403\n",
      "mkt_denverco                     0.014631\n",
      "mkt_houstontx                    0.014433\n",
      "day_of_week                      0.012159\n",
      "mkt_birminghamal                 0.012014\n",
      "mkt_kansascitymo                 0.005405\n",
      "city_pop                         0.005274\n",
      "mkt_phoenixaz                    0.005160\n",
      "mkt_dallasfortworthtx            0.004420\n",
      "mkt_indianapolisin               0.003859\n",
      "house                            0.000641\n",
      "some_inventory                        NaN\n",
      "large_items                           NaN\n",
      "medium_items                          NaN\n",
      "small_items                           NaN\n",
      "Name: over, dtype: float64\n"
     ]
    }
   ],
   "source": [
    "#Generate correlation matrix and take the absolute values\n",
    "c = df.corr().abs()\n",
    "\n",
    "#Take the colum that represent correlations with the independent variable and sort by  largest correlation\n",
    "d = c.over.sort_values(ascending=False)\n",
    "\n",
    "#Display all items in series\n",
    "with pd.option_context('display.max_rows', None, 'display.max_columns', 3):\n",
    "    print(d)"
   ]
  },
  {
   "cell_type": "code",
   "execution_count": null,
   "metadata": {},
   "outputs": [
    {
     "data": {
      "text/plain": [
       "<seaborn.axisgrid.PairGrid at 0x1c8f326860>"
      ]
     },
     "execution_count": 748,
     "metadata": {},
     "output_type": "execute_result"
    }
   ],
   "source": [
    "#Select the target variable and features that are most highly correlated with the target variable\n",
    "pair_vars = ['over', 'booked_man_hours','fs','fs_rooms','stops','rooms_stairs_stops','rooms_stairs','max_late_clock_in_hours','extra_hop','sum_prev_late_rate','num_bad_star_hops','hour_of_day']\n",
    "sns.pairplot(df, vars= pair_vars, hue='fs',kind=\"reg\", plot_kws={'scatter_kws': {'alpha': 0.1}})\n"
   ]
  },
  {
   "cell_type": "code",
   "execution_count": null,
   "metadata": {},
   "outputs": [],
   "source": [
    "#Plotting correlation matrix to easily visualize which of the most highly correlated features are highly correlated with each other\n",
    "\n",
    "#Generate and show a correlation matrix\n",
    "df_corr = df[pair_vars]\n",
    "plt.matshow(df_corr.corr())\n",
    " \n",
    "#Add x labels\n",
    "x_pos = np.arange(len(pair_vars))\n",
    "plt.xticks(x_pos,pair_vars, rotation=90)\n",
    "\n",
    "#Add y labels\n",
    "y_pos = np.arange(len(pair_vars))\n",
    "plt.yticks(y_pos,pair_vars)\n",
    "\n",
    "#Show\n",
    "plt.show()"
   ]
  },
  {
   "cell_type": "code",
   "execution_count": null,
   "metadata": {},
   "outputs": [],
   "source": [
    "import statsmodels.formula.api as smf\n",
    "from scipy import stats\n",
    "stats.chisqprob = lambda chisq, df: stats.chi2.sf(chisq, df)\n",
    "\n",
    "df_log = df[(df.hours_between_waypoints.notnull())]\n",
    "x_cols = ['booked_man_hours','fs_rooms','hours_between_waypoints','residence','sum_prev_late_rate','num_bad_star_hops','hour_of_day','coupon']+ market_dummies + move_type_dummies\n",
    "\n",
    "X = df_log[x_cols]\n",
    "y = df_log['over']\n",
    "\n",
    "import statsmodels.api as sm\n",
    "logit_model=sm.Logit(y,X)\n",
    "result=logit_model.fit()\n",
    "result.summary()"
   ]
  },
  {
   "cell_type": "markdown",
   "metadata": {},
   "source": [
    "**Thoughts**\n",
    "\n",
    "All features but sum_prev_late_rate, mkt_washingtondcdc, and mt_loading  are significant at the 5% level. However, unfortunately, the psuedo R squared value is pretty low.\n"
   ]
  },
  {
   "cell_type": "code",
   "execution_count": null,
   "metadata": {},
   "outputs": [],
   "source": [
    "df.to_csv('move_est_plus.csv')"
   ]
  },
  {
   "cell_type": "code",
   "execution_count": null,
   "metadata": {},
   "outputs": [],
   "source": []
  }
 ],
 "metadata": {
  "kernelspec": {
   "display_name": "Python 3",
   "language": "python",
   "name": "python3"
  },
  "language_info": {
   "codemirror_mode": {
    "name": "ipython",
    "version": 3
   },
   "file_extension": ".py",
   "mimetype": "text/x-python",
   "name": "python",
   "nbconvert_exporter": "python",
   "pygments_lexer": "ipython3",
   "version": "3.6.4"
  }
 },
 "nbformat": 4,
 "nbformat_minor": 2
}
