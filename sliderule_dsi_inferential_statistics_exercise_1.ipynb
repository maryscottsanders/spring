{
 "cells": [
  {
   "cell_type": "markdown",
   "metadata": {},
   "source": [
    "# What is the True Normal Human Body Temperature? \n",
    "\n",
    "#### Background\n",
    "\n",
    "The mean normal body temperature was held to be 37$^{\\circ}$C or 98.6$^{\\circ}$F for more than 120 years since it was first conceptualized and reported by Carl Wunderlich in a famous 1868 book. But, is this value statistically correct?"
   ]
  },
  {
   "cell_type": "markdown",
   "metadata": {},
   "source": [
    "<h3>Exercises</h3>\n",
    "\n",
    "<p>In this exercise, you will analyze a dataset of human body temperatures and employ the concepts of hypothesis testing, confidence intervals, and statistical significance.</p>\n",
    "\n",
    "<p>Answer the following questions <b>in this notebook below and submit to your Github account</b>.</p> \n",
    "\n",
    "<ol>\n",
    "<li>  Is the distribution of body temperatures normal? \n",
    "    <ul>\n",
    "    <li> Although this is not a requirement for the Central Limit Theorem to hold (read the introduction on Wikipedia's page about the CLT carefully: https://en.wikipedia.org/wiki/Central_limit_theorem), it gives us some peace of mind that the population may also be normally distributed if we assume that this sample is representative of the population.\n",
    "    <li> Think about the way you're going to check for the normality of the distribution. Graphical methods are usually used first, but there are also other ways: https://en.wikipedia.org/wiki/Normality_test\n",
    "    </ul>\n",
    "<li>  Is the sample size large? Are the observations independent?\n",
    "    <ul>\n",
    "    <li> Remember that this is a condition for the Central Limit Theorem, and hence the statistical tests we are using, to apply.\n",
    "    </ul>\n",
    "<li>  Is the true population mean really 98.6 degrees F?\n",
    "    <ul>\n",
    "    <li> First, try a bootstrap hypothesis test.\n",
    "    <li> Now, let's try frequentist statistical testing. Would you use a one-sample or two-sample test? Why?\n",
    "    <li> In this situation, is it appropriate to use the $t$ or $z$ statistic? \n",
    "    <li> Now try using the other test. How is the result be different? Why?\n",
    "    </ul>\n",
    "<li>  Draw a small sample of size 10 from the data and repeat both frequentist tests. \n",
    "    <ul>\n",
    "    <li> Which one is the correct one to use? \n",
    "    <li> What do you notice? What does this tell you about the difference in application of the $t$ and $z$ statistic?\n",
    "    </ul>\n",
    "<li>  At what temperature should we consider someone's temperature to be \"abnormal\"?\n",
    "    <ul>\n",
    "    <li> As in the previous example, try calculating everything using the boostrap approach, as well as the frequentist approach.\n",
    "    <li> Start by computing the margin of error and confidence interval. When calculating the confidence interval, keep in mind that you should use the appropriate formula for one draw, and not N draws.\n",
    "    </ul>\n",
    "<li>  Is there a significant difference between males and females in normal temperature?\n",
    "    <ul>\n",
    "    <li> What testing approach did you use and why?\n",
    "    <li> Write a story with your conclusion in the context of the original problem.\n",
    "    </ul>\n",
    "</ol>\n",
    "\n",
    "You can include written notes in notebook cells using Markdown: \n",
    "   - In the control panel at the top, choose Cell > Cell Type > Markdown\n",
    "   - Markdown syntax: http://nestacms.com/docs/creating-content/markdown-cheat-sheet\n",
    "\n",
    "#### Resources\n",
    "\n",
    "+ Information and data sources: http://www.amstat.org/publications/jse/datasets/normtemp.txt, http://www.amstat.org/publications/jse/jse_data_archive.htm\n",
    "+ Markdown syntax: http://nestacms.com/docs/creating-content/markdown-cheat-sheet\n",
    "\n",
    "****"
   ]
  },
  {
   "cell_type": "markdown",
   "metadata": {},
   "source": [
    "### Loading Libraries and Exploring Data"
   ]
  },
  {
   "cell_type": "code",
   "execution_count": 1,
   "metadata": {},
   "outputs": [
    {
     "data": {
      "text/html": [
       "<div>\n",
       "<style scoped>\n",
       "    .dataframe tbody tr th:only-of-type {\n",
       "        vertical-align: middle;\n",
       "    }\n",
       "\n",
       "    .dataframe tbody tr th {\n",
       "        vertical-align: top;\n",
       "    }\n",
       "\n",
       "    .dataframe thead th {\n",
       "        text-align: right;\n",
       "    }\n",
       "</style>\n",
       "<table border=\"1\" class=\"dataframe\">\n",
       "  <thead>\n",
       "    <tr style=\"text-align: right;\">\n",
       "      <th></th>\n",
       "      <th>temperature</th>\n",
       "      <th>gender</th>\n",
       "      <th>heart_rate</th>\n",
       "    </tr>\n",
       "  </thead>\n",
       "  <tbody>\n",
       "    <tr>\n",
       "      <th>0</th>\n",
       "      <td>99.3</td>\n",
       "      <td>F</td>\n",
       "      <td>68.0</td>\n",
       "    </tr>\n",
       "    <tr>\n",
       "      <th>1</th>\n",
       "      <td>98.4</td>\n",
       "      <td>F</td>\n",
       "      <td>81.0</td>\n",
       "    </tr>\n",
       "    <tr>\n",
       "      <th>2</th>\n",
       "      <td>97.8</td>\n",
       "      <td>M</td>\n",
       "      <td>73.0</td>\n",
       "    </tr>\n",
       "    <tr>\n",
       "      <th>3</th>\n",
       "      <td>99.2</td>\n",
       "      <td>F</td>\n",
       "      <td>66.0</td>\n",
       "    </tr>\n",
       "    <tr>\n",
       "      <th>4</th>\n",
       "      <td>98.0</td>\n",
       "      <td>F</td>\n",
       "      <td>73.0</td>\n",
       "    </tr>\n",
       "  </tbody>\n",
       "</table>\n",
       "</div>"
      ],
      "text/plain": [
       "   temperature gender  heart_rate\n",
       "0         99.3      F        68.0\n",
       "1         98.4      F        81.0\n",
       "2         97.8      M        73.0\n",
       "3         99.2      F        66.0\n",
       "4         98.0      F        73.0"
      ]
     },
     "execution_count": 1,
     "metadata": {},
     "output_type": "execute_result"
    }
   ],
   "source": [
    "import pandas as pd\n",
    "import numpy as np\n",
    "import matplotlib.pyplot as plt\n",
    "import seaborn as sns\n",
    "import scipy.stats as stats\n",
    "import statsmodels.stats.weightstats as weightstats\n",
    "\n",
    "df = pd.read_csv('data/human_body_temperature.csv')\n",
    "\n",
    "df.head()"
   ]
  },
  {
   "cell_type": "code",
   "execution_count": 2,
   "metadata": {},
   "outputs": [
    {
     "data": {
      "text/html": [
       "<div>\n",
       "<style scoped>\n",
       "    .dataframe tbody tr th:only-of-type {\n",
       "        vertical-align: middle;\n",
       "    }\n",
       "\n",
       "    .dataframe tbody tr th {\n",
       "        vertical-align: top;\n",
       "    }\n",
       "\n",
       "    .dataframe thead th {\n",
       "        text-align: right;\n",
       "    }\n",
       "</style>\n",
       "<table border=\"1\" class=\"dataframe\">\n",
       "  <thead>\n",
       "    <tr style=\"text-align: right;\">\n",
       "      <th></th>\n",
       "      <th>temperature</th>\n",
       "      <th>heart_rate</th>\n",
       "    </tr>\n",
       "  </thead>\n",
       "  <tbody>\n",
       "    <tr>\n",
       "      <th>count</th>\n",
       "      <td>130.000000</td>\n",
       "      <td>130.000000</td>\n",
       "    </tr>\n",
       "    <tr>\n",
       "      <th>mean</th>\n",
       "      <td>98.249231</td>\n",
       "      <td>73.761538</td>\n",
       "    </tr>\n",
       "    <tr>\n",
       "      <th>std</th>\n",
       "      <td>0.733183</td>\n",
       "      <td>7.062077</td>\n",
       "    </tr>\n",
       "    <tr>\n",
       "      <th>min</th>\n",
       "      <td>96.300000</td>\n",
       "      <td>57.000000</td>\n",
       "    </tr>\n",
       "    <tr>\n",
       "      <th>25%</th>\n",
       "      <td>97.800000</td>\n",
       "      <td>69.000000</td>\n",
       "    </tr>\n",
       "    <tr>\n",
       "      <th>50%</th>\n",
       "      <td>98.300000</td>\n",
       "      <td>74.000000</td>\n",
       "    </tr>\n",
       "    <tr>\n",
       "      <th>75%</th>\n",
       "      <td>98.700000</td>\n",
       "      <td>79.000000</td>\n",
       "    </tr>\n",
       "    <tr>\n",
       "      <th>max</th>\n",
       "      <td>100.800000</td>\n",
       "      <td>89.000000</td>\n",
       "    </tr>\n",
       "  </tbody>\n",
       "</table>\n",
       "</div>"
      ],
      "text/plain": [
       "       temperature  heart_rate\n",
       "count   130.000000  130.000000\n",
       "mean     98.249231   73.761538\n",
       "std       0.733183    7.062077\n",
       "min      96.300000   57.000000\n",
       "25%      97.800000   69.000000\n",
       "50%      98.300000   74.000000\n",
       "75%      98.700000   79.000000\n",
       "max     100.800000   89.000000"
      ]
     },
     "execution_count": 2,
     "metadata": {},
     "output_type": "execute_result"
    }
   ],
   "source": [
    "df.describe()"
   ]
  },
  {
   "cell_type": "markdown",
   "metadata": {
    "collapsed": true
   },
   "source": [
    "### **1. Is the distribution of body temperatures normal?**"
   ]
  },
  {
   "cell_type": "markdown",
   "metadata": {},
   "source": [
    "**Histogram**"
   ]
  },
  {
   "cell_type": "code",
   "execution_count": 3,
   "metadata": {},
   "outputs": [
    {
     "data": {
      "text/plain": [
       "Text(0,0.5,'Frequency')"
      ]
     },
     "execution_count": 3,
     "metadata": {},
     "output_type": "execute_result"
    },
    {
     "data": {
      "image/png": "[encoded data removed]",
      "text/plain": [
       "<matplotlib.figure.Figure at 0x10e41ca20>"
      ]
     },
     "metadata": {},
     "output_type": "display_data"
    }
   ],
   "source": [
    "#First, we should take a look at this graphically.\n",
    "df['temperature'].plot(kind = 'hist')\n",
    "plt.xlabel('Temperature in °F')\n",
    "plt.ylabel('Frequency')\n"
   ]
  },
  {
   "cell_type": "markdown",
   "metadata": {},
   "source": [
    "**68-95-99.7 Rule**\n",
    "\n",
    "The distribution looks roughly normal in the histogram, but let's check using the [68-95–99.7 rule](https://en.wikipedia.org/wiki/68%E2%80%9395%E2%80%9399.7_rule) as well."
   ]
  },
  {
   "cell_type": "code",
   "execution_count": 4,
   "metadata": {},
   "outputs": [
    {
     "name": "stdout",
     "output_type": "stream",
     "text": [
      "The percent of values with 1, 2, and 3, st. devs of the mean are 69.2 %, 94.6 %, and 99.2 % respectively.\n"
     ]
    }
   ],
   "source": [
    "#Calculating the mean, standard deviation, and count of temperature values\n",
    "mean = np.mean(df['temperature'])\n",
    "std = np.std(df['temperature'])\n",
    "count = np.sum(~np.isnan(df['temperature']))\n",
    "\n",
    "#Finding % of values within 1, 2, and 3, standard deviations ofthe mean\n",
    "perc_within_1_std = np.sum((df['temperature']>=(mean - std)) & (df['temperature']<=(mean + std)))/count\n",
    "perc_within_2_std = np.sum((df['temperature']>=(mean - 2*std)) & (df['temperature']<=(mean + 2*std)))/count\n",
    "perc_within_3_std = np.sum((df['temperature']>=(mean - 3*std)) & (df['temperature']<=(mean + 3*std)))/count\n",
    "print('The percent of values with 1, 2, and 3, st. devs of the mean are',np.round(perc_within_1_std*100,1),'%,',np.round(perc_within_2_std*100,1),'%, and',np.round(perc_within_3_std*100,1),'% respectively.')"
   ]
  },
  {
   "cell_type": "markdown",
   "metadata": {},
   "source": [
    "That sounds pretty normal, however, I still would like to try using the scipy normality test.\n",
    "\n",
    "**Normality Test**"
   ]
  },
  {
   "cell_type": "markdown",
   "metadata": {},
   "source": [
    "The null hypothesis is that the data follow a normal distribution."
   ]
  },
  {
   "cell_type": "code",
   "execution_count": 5,
   "metadata": {},
   "outputs": [
    {
     "data": {
      "text/plain": [
       "NormaltestResult(statistic=2.703801433319203, pvalue=0.2587479863488254)"
      ]
     },
     "execution_count": 5,
     "metadata": {},
     "output_type": "execute_result"
    }
   ],
   "source": [
    "stats.normaltest(df['temperature'])"
   ]
  },
  {
   "cell_type": "markdown",
   "metadata": {},
   "source": [
    "With an α of .05,  the p-value is greater than α, and we fail to reject the null hypothesis that the data are\n",
    "normally distributed. (However, we still can't conclude that they are normally distributed.)"
   ]
  },
  {
   "cell_type": "markdown",
   "metadata": {},
   "source": [
    "### 2. Is the sample size large? Are the observations independent?\n"
   ]
  },
  {
   "cell_type": "markdown",
   "metadata": {},
   "source": [
    "Generally, if you have more than 100 observations, and if your data is normally distributed, then your sample size is \"large enough\" for the central limit theorem to apply. Since there are 130 observations and the data appear to be normally distributed, we will consider the sample size large enough. The data are from a random sample and therefore the observations are independent. The conditions for the central limit theorem are met, so we will use statistical tests that rely on this assumption."
   ]
  },
  {
   "cell_type": "markdown",
   "metadata": {},
   "source": [
    "### 3. Is the true population mean really 98.6 °F ?"
   ]
  },
  {
   "cell_type": "markdown",
   "metadata": {},
   "source": [
    "**Bootstrap Hypothesis Test**"
   ]
  },
  {
   "cell_type": "markdown",
   "metadata": {},
   "source": [
    "Null Hypothesis: The true mean body temperature of the dataset is 98.6 °F. (The difference between the mean of the data and 98.6°F is zero.) "
   ]
  },
  {
   "cell_type": "code",
   "execution_count": 6,
   "metadata": {},
   "outputs": [
    {
     "name": "stdout",
     "output_type": "stream",
     "text": [
      "The mean from JAMA's data was 98.25 °F. while Wunderlich's value was 98.6°F. The question becomes, how likely is is that we would have observed a difference of -0.35 °F if the true mean of JAMA's data was equal to Wunderlich's value?\n"
     ]
    }
   ],
   "source": [
    "#Calculating the test statistic\n",
    "def diff_from_wunderlich(data, wunderlich = 98.6):\n",
    "    return np.mean(data) - wunderlich\n",
    "\n",
    "#Observed difference between JAMA's data's mean and Wunderlich's value of 98.6°F\n",
    "diff_obs = diff_from_wunderlich(df['temperature'])\n",
    "print(\"The mean from JAMA's data was\", round(mean,2),\"°F. while Wunderlich's value was 98.6°F.\",'The question becomes, how likely is is that we would have observed a difference of',round(diff_obs,2),\"°F if the true mean of JAMA's data was equal to Wunderlich's value?\") \n"
   ]
  },
  {
   "cell_type": "markdown",
   "metadata": {},
   "source": [
    "Now, how reasonable are the observed data assuming the null hypothesis is true?"
   ]
  },
  {
   "cell_type": "code",
   "execution_count": 50,
   "metadata": {},
   "outputs": [
    {
     "name": "stdout",
     "output_type": "stream",
     "text": [
      "With a p_value of  0.0 we reject the null hypothesis, as it is very unlikely that we would see a value this extreme if the null hypothesis were true.\n"
     ]
    }
   ],
   "source": [
    "#Function for taking a bootstrap sample (sample with replacement) and returning a bootstrap replicate (statistic)\n",
    "def bootstrap_replicate_1d(data, func):\n",
    "    \"\"\"Generate bootstrap replicate of 1D data.\"\"\"\n",
    "    bs_sample = np.random.choice(data, len(data))\n",
    "    return func(bs_sample) \n",
    "\n",
    "#Function for generating and storing many bootstrap replicates in an array\n",
    "def draw_bs_reps(data, func, size):\n",
    "    \"\"\"Draw and store many bootstrap replicates from 1D data.\"\"\"\n",
    "    bs_replicates = np.empty(size)\n",
    "    for i in range (size):\n",
    "        bs_replicates[i] = bootstrap_replicate_1d(data, func)\n",
    "    return bs_replicates\n",
    "\n",
    "#Shift dataset values such that JAMA's dataset's mean is 98.6 °F. This simulates the null hypothesis.\n",
    "temperature_shifted = df['temperature'].values - mean + 98.6\n",
    "\n",
    "#Draw bootstrapped replicates from shifted temperature data\n",
    "bs_replicates = draw_bs_reps(temperature_shifted, diff_from_wunderlich, 10000)\n",
    "\n",
    "#Compute the p-value, the portion of bootstrap replicates that are less than the observed test statistic.\n",
    "#(We use less than, because the mean from JAMA's experiment was less than Wunderlich's value.)\n",
    "p_value = np.sum(bs_replicates <= diff_obs)/10000\n",
    "\n",
    "print(\"With a p_value of \",p_value,\"we reject the null hypothesis, as it is very unlikely that we would see a value this extreme if the null hypothesis were true.\")\n"
   ]
  },
  {
   "cell_type": "markdown",
   "metadata": {},
   "source": [
    "**Frequentist Statistical Testing**\n",
    "\n",
    "As we did above, we will use a [one-sample test](http://blog.minitab.com/blog/adventures-in-statistics-2/understanding-t-tests-1-sample-2-sample-and-paired-t-tests), because we are comparing one sample's mean to a null hypothesis value. "
   ]
  },
  {
   "cell_type": "code",
   "execution_count": 51,
   "metadata": {},
   "outputs": [
    {
     "name": "stdout",
     "output_type": "stream",
     "text": [
      "The p_value is 4.3523151658821886e-08 . Therefore, we reject the null hypothesis that the true sample mean is 98.6 °F. The sample mean is significantly statistically different from 98.6°F\n"
     ]
    }
   ],
   "source": [
    "#Although we don't know the population mean, the sample size is large enough that we can use a z-test\n",
    "ste = std/np.sqrt(count)\n",
    "z_score =(mean-98.6)/ste\n",
    "p_value = stats.norm.sf(abs(z_score))*2 #Two-sided p_value\n",
    "\n",
    "#Or, using weightstats:\n",
    "#print(weightstats.ztest(df['temperature'], value=98.6, alternative='two-sided'))\n",
    "\n",
    "print('The p_value is',p_value,'. Therefore, we reject the null hypothesis that the true sample mean is 98.6 °F. The sample mean is significantly statistically different from 98.6°F')"
   ]
  },
  {
   "cell_type": "code",
   "execution_count": 11,
   "metadata": {},
   "outputs": [
    {
     "data": {
      "text/plain": [
       "Ttest_1sampResult(statistic=-5.4548232923645195, pvalue=2.4106320415561276e-07)"
      ]
     },
     "execution_count": 11,
     "metadata": {},
     "output_type": "execute_result"
    }
   ],
   "source": [
    "#Even though it isn't the appropriate test in this case, let's see what a t test produces.\n",
    "stats.ttest_1samp(df.temperature,98.6)"
   ]
  },
  {
   "cell_type": "markdown",
   "metadata": {},
   "source": [
    "The results seem pretty similar, which makes sense because the sample size is over 100. The t test results would suggest to reject the null hypothesis as well. The p-value is higher, however, which means we would be less certain about rejecting the null hypothesis using a t test. "
   ]
  },
  {
   "cell_type": "markdown",
   "metadata": {},
   "source": [
    " ### 4. Draw a small sample of size 10 from the data and repeat both frequentist tests."
   ]
  },
  {
   "cell_type": "code",
   "execution_count": 53,
   "metadata": {},
   "outputs": [
    {
     "name": "stdout",
     "output_type": "stream",
     "text": [
      "Small sample: [97.  98.2 98.2 98.5 99.  97.4 98.  98.6 97.4 99.3]\n",
      "Z Test Results: (-1.8965830459556536, 0.05788298995211945)\n",
      "Ttest_1sampResult(statistic=-1.8965830459556536, pvalue=0.0903804631309613)\n"
     ]
    }
   ],
   "source": [
    "#Draw a sample of size ten\n",
    "small_sample = np.random.choice(df['temperature'], 10)\n",
    "print(\"Small sample:\",small_sample)\n",
    "\n",
    "#One-sample, two-sided z test on small sample\n",
    "print(\"Z Test Results:\",weightstats.ztest(small_sample, value=98.6, alternative='two-sided'))\n",
    "\n",
    "#One-sample, two-sided t test on small sample. (This is the appropriate one to use in this case because sample size is \"small.\")\n",
    "print(stats.ttest_1samp(small_sample,98.6))"
   ]
  },
  {
   "cell_type": "markdown",
   "metadata": {},
   "source": [
    "After running the t and z tests a few times on the small sample, it looks like while the results tend to be similar, the p-value for the the t test tends to be higher, meaning that in each case, the t test suggests less certainty in rejecting/accepting the null hypothesis. (Rejecting in this case.) This is because the t test accounts for degrees of freedom and the fact that, the fewer observations you have the less certain you can be about your conclusions. "
   ]
  },
  {
   "cell_type": "markdown",
   "metadata": {},
   "source": [
    "### 5. At what temperature should we consider someone's temperature to be \"abnormal\"?"
   ]
  },
  {
   "cell_type": "markdown",
   "metadata": {},
   "source": [
    "**Bootstrap Approach**"
   ]
  },
  {
   "cell_type": "code",
   "execution_count": 33,
   "metadata": {},
   "outputs": [
    {
     "name": "stdout",
     "output_type": "stream",
     "text": [
      "The 95% confidence interval is [98.12230769 98.37384615]  for JAMA's dataset. For this group, we would consider a temperature outside of this interval abnormal.\n"
     ]
    }
   ],
   "source": [
    "#Draw bootstrapped replicates from shifted temperature data\n",
    "bs_replicates_mean_temp = draw_bs_reps(df['temperature'], np.mean, 10000)\n",
    "\n",
    "#Computing a 95% confidence interval for bootstrap replicates\n",
    "conf_int = np.percentile(bs_replicates_mean_temp, [2.5, 97.5])\n",
    "print(\"The 95% confidence interval is\",conf_int,\" for JAMA's dataset. For this group, we would consider a temperature outside of this interval abnormal.\")"
   ]
  },
  {
   "cell_type": "markdown",
   "metadata": {},
   "source": [
    "**Frequentist Approach**"
   ]
  },
  {
   "cell_type": "code",
   "execution_count": 54,
   "metadata": {},
   "outputs": [
    {
     "name": "stdout",
     "output_type": "stream",
     "text": [
      "The 95% confidence interval for JAMA's dataset is (98.12368211145665, 98.37477942700491) . We would consider an observation outside of this interval abnormal.\n"
     ]
    }
   ],
   "source": [
    "#Again, we will use a 95% confidence interval, for which the critical value is 1.96.\n",
    "critical_value = 1.96\n",
    "\n",
    "#Calculating standard error\n",
    "standard_error = std/np.sqrt(count)\n",
    "\n",
    "#Calculating confidence interval using math\n",
    "margin_of_error = critical_value*standard_error\n",
    "confidence_interval = [mean - margin_of_error, mean + margin_of_error]\n",
    "#print(confidence_interval)\n",
    "\n",
    "print(\"The 95% confidence interval for JAMA's dataset is\", stats.norm.interval(.95,loc=mean,scale=standard_error),\". We would consider an observation outside of this interval abnormal.\")\n"
   ]
  },
  {
   "cell_type": "markdown",
   "metadata": {},
   "source": [
    "### 6. Is there a significant difference between males and females in normal temperature?"
   ]
  },
  {
   "cell_type": "markdown",
   "metadata": {},
   "source": [
    "What testing approach did you use and why?\n",
    "Write a story with your conclusion in the context of the original problem."
   ]
  },
  {
   "cell_type": "code",
   "execution_count": 44,
   "metadata": {},
   "outputs": [
    {
     "name": "stdout",
     "output_type": "stream",
     "text": [
      "Female Observations: 65\n",
      "Female Mean: 98.39384615384613\n",
      "Male Observations: 65\n",
      "Male Mean: 98.1046153846154\n"
     ]
    }
   ],
   "source": [
    "#Splitting the dataset into male and female samples\n",
    "female = df['temperature'][df.gender=='F']\n",
    "male = df['temperature'][df.gender=='M']\n",
    "\n",
    "print(\"Female Observations:\",len(female))\n",
    "print(\"Female Mean:\",np.mean(female))\n",
    "\n",
    "print(\"Male Observations:\",len(male))\n",
    "print(\"Male Mean:\",np.mean(male))"
   ]
  },
  {
   "cell_type": "markdown",
   "metadata": {},
   "source": [
    "The male mean is lower than the female mean, but is this a statistically significant difference? \n",
    "\n",
    "Since this sample size is relatively small, we'll use a t test, specifically a two-sided test. The null hypothesis is that the two sample's means are equal."
   ]
  },
  {
   "cell_type": "code",
   "execution_count": 55,
   "metadata": {},
   "outputs": [
    {
     "data": {
      "text/plain": [
       "Ttest_indResult(statistic=2.2854345381656103, pvalue=0.02393188312239561)"
      ]
     },
     "execution_count": 55,
     "metadata": {},
     "output_type": "execute_result"
    }
   ],
   "source": [
    "stats.ttest_ind(female,male)"
   ]
  },
  {
   "cell_type": "markdown",
   "metadata": {},
   "source": [
    "The p-value of 2.4% suggests that there is only a 2.4% chance we would have had such a large difference in the means between men and women if the true means of the samples were identical. We would reject the null hypothesis at a 95% confidence interval, but would fail to reject it a 99% confidence interval. For a question of this nature, I imagine someone studying this would use collect more observations and use a higher threshold to more confidently determine whether or not a difference exists."
   ]
  },
  {
   "cell_type": "markdown",
   "metadata": {},
   "source": [
    "**Remaining Thoughts**\n",
    "\n",
    "Thinking back on the apparent difference between Wunderlich's value and JAMA's data, assuming men do have a lower mean temperature, maybe men represented a larger portion of JAMA's observations than Wunderlich's? Although, both the male and female means are below 98.6°F, so that does not fully account for the difference between JAMA's dataset and Wunderlich's value. Maybe there is some other explainable difference between the JAMA's and Wunderlich's samples?"
   ]
  },
  {
   "cell_type": "code",
   "execution_count": null,
   "metadata": {},
   "outputs": [],
   "source": []
  }
 ],
 "metadata": {
  "kernelspec": {
   "display_name": "Python 3",
   "language": "python",
   "name": "python3"
  },
  "language_info": {
   "codemirror_mode": {
    "name": "ipython",
    "version": 3
   },
   "file_extension": ".py",
   "mimetype": "text/x-python",
   "name": "python",
   "nbconvert_exporter": "python",
   "pygments_lexer": "ipython3",
   "version": "3.6.4"
  }
 },
 "nbformat": 4,
 "nbformat_minor": 1
}
